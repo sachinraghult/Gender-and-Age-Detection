{
 "cells": [
  {
   "cell_type": "markdown",
   "id": "amber-tiger",
   "metadata": {
    "papermill": {
     "duration": 0.018246,
     "end_time": "2021-05-25T08:26:55.952850",
     "exception": false,
     "start_time": "2021-05-25T08:26:55.934604",
     "status": "completed"
    },
    "tags": []
   },
   "source": [
    "# Gender Recognition using Convolutional Neural Networks \n",
   ]
  },
  {
   "cell_type": "markdown",
   "id": "detailed-assist",
   "metadata": {
    "papermill": {
     "duration": 0.017389,
     "end_time": "2021-05-25T08:26:55.987546",
     "exception": false,
     "start_time": "2021-05-25T08:26:55.970157",
     "status": "completed"
    },
    "tags": []
   },
   "source": [
    "# Importing Libraries"
   ]
  },
  {
   "cell_type": "code",
   "execution_count": 1,
   "id": "square-serve",
   "metadata": {
    "_cell_guid": "b1076dfc-b9ad-4769-8c92-a6c4dae69d19",
    "_uuid": "8f2839f25d086af736a60e9eeb907d3b93b6e0e5",
    "execution": {
     "iopub.execute_input": "2021-05-25T08:26:56.033608Z",
     "iopub.status.busy": "2021-05-25T08:26:56.032763Z",
     "iopub.status.idle": "2021-05-25T08:27:02.325905Z",
     "shell.execute_reply": "2021-05-25T08:27:02.325244Z",
     "shell.execute_reply.started": "2021-05-25T08:06:33.858621Z"
    },
    "papermill": {
     "duration": 6.321335,
     "end_time": "2021-05-25T08:27:02.326081",
     "exception": false,
     "start_time": "2021-05-25T08:26:56.004746",
     "status": "completed"
    },
    "tags": []
   },
   "outputs": [
    {
     "name": "stdout",
     "output_type": "stream",
     "text": [
      "/kaggle/input/age-gender-and-ethnicity-face-data-csv/age_gender.csv\n"
     ]
    }
   ],
   "source": [
    "# This Python 3 environment comes with many helpful analytics libraries installed\n",
    "# It is defined by the kaggle/python Docker image: https://github.com/kaggle/docker-python\n",
    "# For example, here's several helpful packages to load\n",
    "\n",
    "import numpy as np # linear algebra\n",
    "import pandas as pd # data processing, CSV file I/O (e.g. pd.read_csv)\n",
    "import matplotlib.pyplot as plt\n",
    "from sklearn.model_selection import train_test_split\n",
    "import tensorflow as tf\n",
    "from tensorflow.keras import layers as L\n",
    "# Input data files are available in the read-only \"../input/\" directory\n",
    "# For example, running this (by clicking run or pressing Shift+Enter) will list all files under the input directory\n",
    "\n",
    "import os\n",
    "for dirname, _, filenames in os.walk('/kaggle/input'):\n",
    "    for filename in filenames:\n",
    "        print(os.path.join(dirname, filename))\n",
    "\n",
    "# You can write up to 20GB to the current directory (/kaggle/working/) that gets preserved as output when you create a version using \"Save & Run All\" \n",
    "# You can also write temporary files to /kaggle/temp/, but they won't be saved outside of the current session"
   ]
  },
  {
   "cell_type": "markdown",
   "id": "immune-syndication",
   "metadata": {
    "papermill": {
     "duration": 0.017555,
     "end_time": "2021-05-25T08:27:02.361807",
     "exception": false,
     "start_time": "2021-05-25T08:27:02.344252",
     "status": "completed"
    },
    "tags": []
   },
   "source": [
    "# Data Preparation"
   ]
  },
  {
   "cell_type": "code",
   "execution_count": 2,
   "id": "spatial-captain",
   "metadata": {
    "execution": {
     "iopub.execute_input": "2021-05-25T08:27:02.402082Z",
     "iopub.status.busy": "2021-05-25T08:27:02.401478Z",
     "iopub.status.idle": "2021-05-25T08:27:06.025202Z",
     "shell.execute_reply": "2021-05-25T08:27:06.024438Z",
     "shell.execute_reply.started": "2021-05-25T08:06:33.872157Z"
    },
    "papermill": {
     "duration": 3.645751,
     "end_time": "2021-05-25T08:27:06.025346",
     "exception": false,
     "start_time": "2021-05-25T08:27:02.379595",
     "status": "completed"
    },
    "tags": []
   },
   "outputs": [
    {
     "data": {
      "text/html": [
       "<div>\n",
       "<style scoped>\n",
       "    .dataframe tbody tr th:only-of-type {\n",
       "        vertical-align: middle;\n",
       "    }\n",
       "\n",
       "    .dataframe tbody tr th {\n",
       "        vertical-align: top;\n",
       "    }\n",
       "\n",
       "    .dataframe thead th {\n",
       "        text-align: right;\n",
       "    }\n",
       "</style>\n",
       "<table border=\"1\" class=\"dataframe\">\n",
       "  <thead>\n",
       "    <tr style=\"text-align: right;\">\n",
       "      <th></th>\n",
       "      <th>age</th>\n",
       "      <th>ethnicity</th>\n",
       "      <th>gender</th>\n",
       "      <th>img_name</th>\n",
       "      <th>pixels</th>\n",
       "    </tr>\n",
       "  </thead>\n",
       "  <tbody>\n",
       "    <tr>\n",
       "      <th>0</th>\n",
       "      <td>1</td>\n",
       "      <td>2</td>\n",
       "      <td>0</td>\n",
       "      <td>20161219203650636.jpg.chip.jpg</td>\n",
       "      <td>129 128 128 126 127 130 133 135 139 142 145 14...</td>\n",
       "    </tr>\n",
       "    <tr>\n",
       "      <th>1</th>\n",
       "      <td>1</td>\n",
       "      <td>2</td>\n",
       "      <td>0</td>\n",
       "      <td>20161219222752047.jpg.chip.jpg</td>\n",
       "      <td>164 74 111 168 169 171 175 182 184 188 193 199...</td>\n",
       "    </tr>\n",
       "    <tr>\n",
       "      <th>2</th>\n",
       "      <td>1</td>\n",
       "      <td>2</td>\n",
       "      <td>0</td>\n",
       "      <td>20161219222832191.jpg.chip.jpg</td>\n",
       "      <td>67 70 71 70 69 67 70 79 90 103 116 132 145 155...</td>\n",
       "    </tr>\n",
       "    <tr>\n",
       "      <th>3</th>\n",
       "      <td>1</td>\n",
       "      <td>2</td>\n",
       "      <td>0</td>\n",
       "      <td>20161220144911423.jpg.chip.jpg</td>\n",
       "      <td>193 197 198 200 199 200 202 203 204 205 208 21...</td>\n",
       "    </tr>\n",
       "    <tr>\n",
       "      <th>4</th>\n",
       "      <td>1</td>\n",
       "      <td>2</td>\n",
       "      <td>0</td>\n",
       "      <td>20161220144914327.jpg.chip.jpg</td>\n",
       "      <td>202 205 209 210 209 209 210 211 212 214 218 21...</td>\n",
       "    </tr>\n",
       "  </tbody>\n",
       "</table>\n",
       "</div>"
      ],
      "text/plain": [
       "   age  ethnicity  gender                        img_name  \\\n",
       "0    1          2       0  20161219203650636.jpg.chip.jpg   \n",
       "1    1          2       0  20161219222752047.jpg.chip.jpg   \n",
       "2    1          2       0  20161219222832191.jpg.chip.jpg   \n",
       "3    1          2       0  20161220144911423.jpg.chip.jpg   \n",
       "4    1          2       0  20161220144914327.jpg.chip.jpg   \n",
       "\n",
       "                                              pixels  \n",
       "0  129 128 128 126 127 130 133 135 139 142 145 14...  \n",
       "1  164 74 111 168 169 171 175 182 184 188 193 199...  \n",
       "2  67 70 71 70 69 67 70 79 90 103 116 132 145 155...  \n",
       "3  193 197 198 200 199 200 202 203 204 205 208 21...  \n",
       "4  202 205 209 210 209 209 210 211 212 214 218 21...  "
      ]
     },
     "execution_count": 2,
     "metadata": {},
     "output_type": "execute_result"
    }
   ],
   "source": [
    "df=pd.read_csv(\"../input/age-gender-and-ethnicity-face-data-csv/age_gender.csv\")\n",
    "df.head()"
   ]
  },
  {
   "cell_type": "code",
   "execution_count": 3,
   "id": "juvenile-salvation",
   "metadata": {
    "execution": {
     "iopub.execute_input": "2021-05-25T08:27:06.075921Z",
     "iopub.status.busy": "2021-05-25T08:27:06.075185Z",
     "iopub.status.idle": "2021-05-25T08:27:06.092705Z",
     "shell.execute_reply": "2021-05-25T08:27:06.091984Z",
     "shell.execute_reply.started": "2021-05-25T08:06:35.653319Z"
    },
    "papermill": {
     "duration": 0.048985,
     "end_time": "2021-05-25T08:27:06.092887",
     "exception": false,
     "start_time": "2021-05-25T08:27:06.043902",
     "status": "completed"
    },
    "tags": []
   },
   "outputs": [
    {
     "name": "stdout",
     "output_type": "stream",
     "text": [
      "<class 'pandas.core.frame.DataFrame'>\n",
      "RangeIndex: 23705 entries, 0 to 23704\n",
      "Data columns (total 5 columns):\n",
      " #   Column     Non-Null Count  Dtype \n",
      "---  ------     --------------  ----- \n",
      " 0   age        23705 non-null  int64 \n",
      " 1   ethnicity  23705 non-null  int64 \n",
      " 2   gender     23705 non-null  int64 \n",
      " 3   img_name   23705 non-null  object\n",
      " 4   pixels     23705 non-null  object\n",
      "dtypes: int64(3), object(2)\n",
      "memory usage: 926.1+ KB\n"
     ]
    }
   ],
   "source": [
    "df.info()"
   ]
  },
  {
   "cell_type": "code",
   "execution_count": 4,
   "id": "electric-zambia",
   "metadata": {
    "execution": {
     "iopub.execute_input": "2021-05-25T08:27:06.136184Z",
     "iopub.status.busy": "2021-05-25T08:27:06.135252Z",
     "iopub.status.idle": "2021-05-25T08:27:06.160197Z",
     "shell.execute_reply": "2021-05-25T08:27:06.160689Z",
     "shell.execute_reply.started": "2021-05-25T08:06:35.679166Z"
    },
    "papermill": {
     "duration": 0.047932,
     "end_time": "2021-05-25T08:27:06.160854",
     "exception": false,
     "start_time": "2021-05-25T08:27:06.112922",
     "status": "completed"
    },
    "tags": []
   },
   "outputs": [
    {
     "data": {
      "text/html": [
       "<div>\n",
       "<style scoped>\n",
       "    .dataframe tbody tr th:only-of-type {\n",
       "        vertical-align: middle;\n",
       "    }\n",
       "\n",
       "    .dataframe tbody tr th {\n",
       "        vertical-align: top;\n",
       "    }\n",
       "\n",
       "    .dataframe thead th {\n",
       "        text-align: right;\n",
       "    }\n",
       "</style>\n",
       "<table border=\"1\" class=\"dataframe\">\n",
       "  <thead>\n",
       "    <tr style=\"text-align: right;\">\n",
       "      <th></th>\n",
       "      <th>age</th>\n",
       "      <th>ethnicity</th>\n",
       "      <th>gender</th>\n",
       "    </tr>\n",
       "  </thead>\n",
       "  <tbody>\n",
       "    <tr>\n",
       "      <th>count</th>\n",
       "      <td>23705.000000</td>\n",
       "      <td>23705.000000</td>\n",
       "      <td>23705.000000</td>\n",
       "    </tr>\n",
       "    <tr>\n",
       "      <th>mean</th>\n",
       "      <td>33.300907</td>\n",
       "      <td>1.269226</td>\n",
       "      <td>0.477283</td>\n",
       "    </tr>\n",
       "    <tr>\n",
       "      <th>std</th>\n",
       "      <td>19.885708</td>\n",
       "      <td>1.345638</td>\n",
       "      <td>0.499494</td>\n",
       "    </tr>\n",
       "    <tr>\n",
       "      <th>min</th>\n",
       "      <td>1.000000</td>\n",
       "      <td>0.000000</td>\n",
       "      <td>0.000000</td>\n",
       "    </tr>\n",
       "    <tr>\n",
       "      <th>25%</th>\n",
       "      <td>23.000000</td>\n",
       "      <td>0.000000</td>\n",
       "      <td>0.000000</td>\n",
       "    </tr>\n",
       "    <tr>\n",
       "      <th>50%</th>\n",
       "      <td>29.000000</td>\n",
       "      <td>1.000000</td>\n",
       "      <td>0.000000</td>\n",
       "    </tr>\n",
       "    <tr>\n",
       "      <th>75%</th>\n",
       "      <td>45.000000</td>\n",
       "      <td>2.000000</td>\n",
       "      <td>1.000000</td>\n",
       "    </tr>\n",
       "    <tr>\n",
       "      <th>max</th>\n",
       "      <td>116.000000</td>\n",
       "      <td>4.000000</td>\n",
       "      <td>1.000000</td>\n",
       "    </tr>\n",
       "  </tbody>\n",
       "</table>\n",
       "</div>"
      ],
      "text/plain": [
       "                age     ethnicity        gender\n",
       "count  23705.000000  23705.000000  23705.000000\n",
       "mean      33.300907      1.269226      0.477283\n",
       "std       19.885708      1.345638      0.499494\n",
       "min        1.000000      0.000000      0.000000\n",
       "25%       23.000000      0.000000      0.000000\n",
       "50%       29.000000      1.000000      0.000000\n",
       "75%       45.000000      2.000000      1.000000\n",
       "max      116.000000      4.000000      1.000000"
      ]
     },
     "execution_count": 4,
     "metadata": {},
     "output_type": "execute_result"
    }
   ],
   "source": [
    "df.describe()"
   ]
  },
  {
   "cell_type": "markdown",
   "id": "approximate-marketplace",
   "metadata": {
    "papermill": {
     "duration": 0.018795,
     "end_time": "2021-05-25T08:27:06.198889",
     "exception": false,
     "start_time": "2021-05-25T08:27:06.180094",
     "status": "completed"
    },
    "tags": []
   },
   "source": [
    "# Distribution and Normalization"
   ]
  },
  {
   "cell_type": "code",
   "execution_count": 5,
   "id": "descending-sellers",
   "metadata": {
    "execution": {
     "iopub.execute_input": "2021-05-25T08:27:06.256855Z",
     "iopub.status.busy": "2021-05-25T08:27:06.256135Z",
     "iopub.status.idle": "2021-05-25T08:27:06.874335Z",
     "shell.execute_reply": "2021-05-25T08:27:06.873844Z",
     "shell.execute_reply.started": "2021-05-25T08:06:35.704347Z"
    },
    "papermill": {
     "duration": 0.656539,
     "end_time": "2021-05-25T08:27:06.874510",
     "exception": false,
     "start_time": "2021-05-25T08:27:06.217971",
     "status": "completed"
    },
    "tags": []
   },
   "outputs": [
    {
     "data": {
      "image/png": "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\n",
      "text/plain": [
       "<Figure size 360x360 with 1 Axes>"
      ]
     },
     "metadata": {
      "needs_background": "light"
     },
     "output_type": "display_data"
    },
    {
     "data": {
      "image/png": "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\n",
      "text/plain": [
       "<Figure size 360x360 with 1 Axes>"
      ]
     },
     "metadata": {
      "needs_background": "light"
     },
     "output_type": "display_data"
    },
    {
     "data": {
      "image/png": "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\n",
      "text/plain": [
       "<Figure size 360x360 with 1 Axes>"
      ]
     },
     "metadata": {
      "needs_background": "light"
     },
     "output_type": "display_data"
    }
   ],
   "source": [
    "for i in ['age','ethnicity','gender']:\n",
    "    plt.figure(figsize=(5,5))\n",
    "    plt.hist(df[i])\n",
    "    plt.xlabel(i)\n",
    "    plt.ylabel(\"count\")"
   ]
  },
  {
   "cell_type": "code",
   "execution_count": 6,
   "id": "nominated-orientation",
   "metadata": {
    "execution": {
     "iopub.execute_input": "2021-05-25T08:27:06.937675Z",
     "iopub.status.busy": "2021-05-25T08:27:06.931808Z",
     "iopub.status.idle": "2021-05-25T08:27:23.256336Z",
     "shell.execute_reply": "2021-05-25T08:27:23.255822Z",
     "shell.execute_reply.started": "2021-05-25T08:06:36.174293Z"
    },
    "papermill": {
     "duration": 16.361015,
     "end_time": "2021-05-25T08:27:23.256497",
     "exception": false,
     "start_time": "2021-05-25T08:27:06.895482",
     "status": "completed"
    },
    "tags": []
   },
   "outputs": [],
   "source": [
    "df['pixels']=df['pixels'].apply(lambda x:  np.array(x.split(), dtype=\"float32\"))"
   ]
  },
  {
   "cell_type": "code",
   "execution_count": 7,
   "id": "fatal-punishment",
   "metadata": {
    "execution": {
     "iopub.execute_input": "2021-05-25T08:27:23.302303Z",
     "iopub.status.busy": "2021-05-25T08:27:23.301655Z",
     "iopub.status.idle": "2021-05-25T08:27:23.441579Z",
     "shell.execute_reply": "2021-05-25T08:27:23.440959Z",
     "shell.execute_reply.started": "2021-05-25T08:06:52.753445Z"
    },
    "papermill": {
     "duration": 0.164593,
     "end_time": "2021-05-25T08:27:23.441721",
     "exception": false,
     "start_time": "2021-05-25T08:27:23.277128",
     "status": "completed"
    },
    "tags": []
   },
   "outputs": [],
   "source": [
    "df['pixels']=df['pixels']/255"
   ]
  },
  {
   "cell_type": "markdown",
   "id": "explicit-bachelor",
   "metadata": {
    "papermill": {
     "duration": 0.020244,
     "end_time": "2021-05-25T08:27:23.482802",
     "exception": false,
     "start_time": "2021-05-25T08:27:23.462558",
     "status": "completed"
    },
    "tags": []
   },
   "source": [
    "# Gender Recognition Model Building"
   ]
  },
  {
   "cell_type": "code",
   "execution_count": 8,
   "id": "protecting-floor",
   "metadata": {
    "execution": {
     "iopub.execute_input": "2021-05-25T08:27:23.531102Z",
     "iopub.status.busy": "2021-05-25T08:27:23.530526Z",
     "iopub.status.idle": "2021-05-25T08:27:23.593994Z",
     "shell.execute_reply": "2021-05-25T08:27:23.594428Z",
     "shell.execute_reply.started": "2021-05-25T08:06:52.908837Z"
    },
    "papermill": {
     "duration": 0.091486,
     "end_time": "2021-05-25T08:27:23.594620",
     "exception": false,
     "start_time": "2021-05-25T08:27:23.503134",
     "status": "completed"
    },
    "tags": []
   },
   "outputs": [],
   "source": [
    "X=np.array(df['pixels'].tolist())\n",
    "X=X.reshape(X.shape[0],48,48,1)"
   ]
  },
  {
   "cell_type": "code",
   "execution_count": 9,
   "id": "wicked-albania",
   "metadata": {
    "execution": {
     "iopub.execute_input": "2021-05-25T08:27:23.639411Z",
     "iopub.status.busy": "2021-05-25T08:27:23.638816Z",
     "iopub.status.idle": "2021-05-25T08:27:23.738487Z",
     "shell.execute_reply": "2021-05-25T08:27:23.738965Z",
     "shell.execute_reply.started": "2021-05-25T08:06:53.020409Z"
    },
    "papermill": {
     "duration": 0.123443,
     "end_time": "2021-05-25T08:27:23.739141",
     "exception": false,
     "start_time": "2021-05-25T08:27:23.615698",
     "status": "completed"
    },
    "tags": []
   },
   "outputs": [],
   "source": [
    "y=df['gender']\n",
    "X_train, X_test, y_train, y_test = train_test_split(X, y, test_size=0.2, random_state=1)"
   ]
  },
  {
   "cell_type": "code",
   "execution_count": 10,
   "id": "upper-illinois",
   "metadata": {
    "execution": {
     "iopub.execute_input": "2021-05-25T08:27:23.783655Z",
     "iopub.status.busy": "2021-05-25T08:27:23.783066Z",
     "iopub.status.idle": "2021-05-25T08:27:23.914720Z",
     "shell.execute_reply": "2021-05-25T08:27:23.915272Z",
     "shell.execute_reply.started": "2021-05-25T08:06:53.086592Z"
    },
    "papermill": {
     "duration": 0.155658,
     "end_time": "2021-05-25T08:27:23.915503",
     "exception": false,
     "start_time": "2021-05-25T08:27:23.759845",
     "status": "completed"
    },
    "tags": []
   },
   "outputs": [],
   "source": [
    "input=X_train.shape[1:]\n",
    "model = tf.keras.Sequential([\n",
    "    L.InputLayer(input_shape=input),\n",
    "    L.Conv2D(32, (3, 3), activation='relu', input_shape=(32, 32, 3)),\n",
    "    L.BatchNormalization(),\n",
    "    L.MaxPooling2D((2, 2)),\n",
    "    L.Conv2D(64, (3, 3), activation='relu'),\n",
    "    L.MaxPooling2D((2, 2)),\n",
    "    L.Flatten(),\n",
    "    L.Dense(64, activation='relu'),\n",
    "    L.Dropout(rate=0.5),\n",
    "    L.Dense(1, activation='sigmoid')\n",
    "])"
   ]
  },
  {
   "cell_type": "code",
   "execution_count": 11,
   "id": "domestic-circular",
   "metadata": {
    "execution": {
     "iopub.execute_input": "2021-05-25T08:27:23.964071Z",
     "iopub.status.busy": "2021-05-25T08:27:23.962703Z",
     "iopub.status.idle": "2021-05-25T08:27:23.969326Z",
     "shell.execute_reply": "2021-05-25T08:27:23.969798Z",
     "shell.execute_reply.started": "2021-05-25T08:06:53.229399Z"
    },
    "papermill": {
     "duration": 0.033075,
     "end_time": "2021-05-25T08:27:23.969959",
     "exception": false,
     "start_time": "2021-05-25T08:27:23.936884",
     "status": "completed"
    },
    "tags": []
   },
   "outputs": [
    {
     "name": "stdout",
     "output_type": "stream",
     "text": [
      "Model: \"sequential\"\n",
      "_________________________________________________________________\n",
      "Layer (type)                 Output Shape              Param #   \n",
      "=================================================================\n",
      "conv2d (Conv2D)              (None, 46, 46, 32)        320       \n",
      "_________________________________________________________________\n",
      "batch_normalization (BatchNo (None, 46, 46, 32)        128       \n",
      "_________________________________________________________________\n",
      "max_pooling2d (MaxPooling2D) (None, 23, 23, 32)        0         \n",
      "_________________________________________________________________\n",
      "conv2d_1 (Conv2D)            (None, 21, 21, 64)        18496     \n",
      "_________________________________________________________________\n",
      "max_pooling2d_1 (MaxPooling2 (None, 10, 10, 64)        0         \n",
      "_________________________________________________________________\n",
      "flatten (Flatten)            (None, 6400)              0         \n",
      "_________________________________________________________________\n",
      "dense (Dense)                (None, 64)                409664    \n",
      "_________________________________________________________________\n",
      "dropout (Dropout)            (None, 64)                0         \n",
      "_________________________________________________________________\n",
      "dense_1 (Dense)              (None, 1)                 65        \n",
      "=================================================================\n",
      "Total params: 428,673\n",
      "Trainable params: 428,609\n",
      "Non-trainable params: 64\n",
      "_________________________________________________________________\n"
     ]
    }
   ],
   "source": [
    "model.summary()"
   ]
  },
  {
   "cell_type": "markdown",
   "id": "norwegian-staff",
   "metadata": {
    "papermill": {
     "duration": 0.021478,
     "end_time": "2021-05-25T08:27:24.012402",
     "exception": false,
     "start_time": "2021-05-25T08:27:23.990924",
     "status": "completed"
    },
    "tags": []
   },
   "source": [
    "# Feeding Model & Evaluation"
   ]
  },
  {
   "cell_type": "code",
   "execution_count": 12,
   "id": "polished-sense",
   "metadata": {
    "execution": {
     "iopub.execute_input": "2021-05-25T08:27:24.067388Z",
     "iopub.status.busy": "2021-05-25T08:27:24.060169Z",
     "iopub.status.idle": "2021-05-25T08:37:00.316957Z",
     "shell.execute_reply": "2021-05-25T08:37:00.316299Z",
     "shell.execute_reply.started": "2021-05-25T08:06:53.240970Z"
    },
    "papermill": {
     "duration": 576.283692,
     "end_time": "2021-05-25T08:37:00.317130",
     "exception": false,
     "start_time": "2021-05-25T08:27:24.033438",
     "status": "completed"
    },
    "tags": []
   },
   "outputs": [
    {
     "name": "stdout",
     "output_type": "stream",
     "text": [
      "Epoch 1/20\n",
      "267/267 [==============================] - 30s 108ms/step - loss: 0.5756 - accuracy: 0.6930 - val_loss: 0.6008 - val_accuracy: 0.8139\n",
      "Epoch 2/20\n",
      "267/267 [==============================] - 29s 107ms/step - loss: 0.4163 - accuracy: 0.8110 - val_loss: 0.3973 - val_accuracy: 0.8403\n",
      "Epoch 3/20\n",
      "267/267 [==============================] - 28s 105ms/step - loss: 0.3564 - accuracy: 0.8415 - val_loss: 0.3234 - val_accuracy: 0.8614\n",
      "Epoch 4/20\n",
      "267/267 [==============================] - 28s 106ms/step - loss: 0.3377 - accuracy: 0.8510 - val_loss: 0.3147 - val_accuracy: 0.8645\n",
      "Epoch 5/20\n",
      "267/267 [==============================] - 28s 106ms/step - loss: 0.3198 - accuracy: 0.8637 - val_loss: 0.2891 - val_accuracy: 0.8735\n",
      "Epoch 6/20\n",
      "267/267 [==============================] - 29s 108ms/step - loss: 0.3086 - accuracy: 0.8699 - val_loss: 0.3081 - val_accuracy: 0.8614\n",
      "Epoch 7/20\n",
      "267/267 [==============================] - 29s 108ms/step - loss: 0.2903 - accuracy: 0.8766 - val_loss: 0.2798 - val_accuracy: 0.8766\n",
      "Epoch 8/20\n",
      "267/267 [==============================] - 29s 109ms/step - loss: 0.2872 - accuracy: 0.8806 - val_loss: 0.2801 - val_accuracy: 0.8703\n",
      "Epoch 9/20\n",
      "267/267 [==============================] - 29s 107ms/step - loss: 0.2689 - accuracy: 0.8849 - val_loss: 0.3019 - val_accuracy: 0.8635\n",
      "Epoch 10/20\n",
      "267/267 [==============================] - 29s 108ms/step - loss: 0.2574 - accuracy: 0.8949 - val_loss: 0.2665 - val_accuracy: 0.8803\n",
      "Epoch 11/20\n",
      "267/267 [==============================] - 29s 108ms/step - loss: 0.2566 - accuracy: 0.8895 - val_loss: 0.2706 - val_accuracy: 0.8782\n",
      "Epoch 12/20\n",
      "267/267 [==============================] - 29s 108ms/step - loss: 0.2466 - accuracy: 0.8987 - val_loss: 0.2567 - val_accuracy: 0.8882\n",
      "Epoch 13/20\n",
      "267/267 [==============================] - 29s 107ms/step - loss: 0.2456 - accuracy: 0.8964 - val_loss: 0.2659 - val_accuracy: 0.8814\n",
      "Epoch 14/20\n",
      "267/267 [==============================] - 28s 107ms/step - loss: 0.2347 - accuracy: 0.9028 - val_loss: 0.2498 - val_accuracy: 0.8867\n",
      "Epoch 15/20\n",
      "267/267 [==============================] - 29s 107ms/step - loss: 0.2313 - accuracy: 0.9037 - val_loss: 0.2519 - val_accuracy: 0.8861\n",
      "Epoch 16/20\n",
      "267/267 [==============================] - 29s 107ms/step - loss: 0.2272 - accuracy: 0.9071 - val_loss: 0.2465 - val_accuracy: 0.8904\n",
      "Epoch 17/20\n",
      "267/267 [==============================] - 28s 106ms/step - loss: 0.2205 - accuracy: 0.9103 - val_loss: 0.2442 - val_accuracy: 0.8909\n",
      "Epoch 18/20\n",
      "267/267 [==============================] - 29s 110ms/step - loss: 0.2148 - accuracy: 0.9138 - val_loss: 0.2563 - val_accuracy: 0.8867\n",
      "Epoch 19/20\n",
      "267/267 [==============================] - 30s 111ms/step - loss: 0.2109 - accuracy: 0.9112 - val_loss: 0.2433 - val_accuracy: 0.8898\n",
      "Epoch 20/20\n",
      "267/267 [==============================] - 29s 110ms/step - loss: 0.2035 - accuracy: 0.9213 - val_loss: 0.2452 - val_accuracy: 0.8972\n"
     ]
    }
   ],
   "source": [
    "model.compile(optimizer='sgd',\n",
    "              loss=tf.keras.losses.BinaryCrossentropy(),\n",
    "              metrics=['accuracy'])\n",
    "callback= tf.keras.callbacks.EarlyStopping(monitor='val_loss', min_delta=0.01, patience=8, verbose=0,restore_best_weights=True)\n",
    "history = model.fit( X_train, y_train, epochs=20, batch_size=64,validation_split=0.1, callbacks=[callback],verbose=1)"
   ]
  },
  {
   "cell_type": "code",
   "execution_count": 13,
   "id": "hidden-peace",
   "metadata": {
    "execution": {
     "iopub.execute_input": "2021-05-25T08:37:03.686988Z",
     "iopub.status.busy": "2021-05-25T08:37:03.686226Z",
     "iopub.status.idle": "2021-05-25T08:37:03.833132Z",
     "shell.execute_reply": "2021-05-25T08:37:03.832493Z",
     "shell.execute_reply.started": "2021-05-25T08:16:40.667724Z"
    },
    "papermill": {
     "duration": 1.860664,
     "end_time": "2021-05-25T08:37:03.833270",
     "exception": false,
     "start_time": "2021-05-25T08:37:01.972606",
     "status": "completed"
    },
    "tags": []
   },
   "outputs": [
    {
     "data": {
      "text/plain": [
       "<matplotlib.legend.Legend at 0x7f687d39d510>"
      ]
     },
     "execution_count": 13,
     "metadata": {},
     "output_type": "execute_result"
    },
    {
     "data": {
      "image/png": "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\n",
      "text/plain": [
       "<Figure size 432x288 with 1 Axes>"
      ]
     },
     "metadata": {
      "needs_background": "light"
     },
     "output_type": "display_data"
    }
   ],
   "source": [
    "plt.plot(history.history['accuracy'], label='accuracy')\n",
    "plt.plot(history.history['val_accuracy'], label = 'val_accuracy')\n",
    "plt.xlabel('Epoch')\n",
    "plt.ylabel('Accuracy')\n",
    "plt.ylim([0.5, 1])\n",
    "plt.legend(loc='lower right')"
   ]
  },
  {
   "cell_type": "code",
   "execution_count": 14,
   "id": "remarkable-supervisor",
   "metadata": {
    "execution": {
     "iopub.execute_input": "2021-05-25T08:37:07.103525Z",
     "iopub.status.busy": "2021-05-25T08:37:07.102846Z",
     "iopub.status.idle": "2021-05-25T08:37:09.091348Z",
     "shell.execute_reply": "2021-05-25T08:37:09.090830Z",
     "shell.execute_reply.started": "2021-05-25T08:16:40.836190Z"
    },
    "papermill": {
     "duration": 3.639907,
     "end_time": "2021-05-25T08:37:09.091526",
     "exception": false,
     "start_time": "2021-05-25T08:37:05.451619",
     "status": "completed"
    },
    "tags": []
   },
   "outputs": [
    {
     "name": "stdout",
     "output_type": "stream",
     "text": [
      "149/149 - 2s - loss: 0.2383 - accuracy: 0.8912\n"
     ]
    }
   ],
   "source": [
    "test_loss, test_acc = model.evaluate(X_test,y_test, verbose=2)"
   ]
  },
  {
   "cell_type": "markdown",
   "id": "measured-central",
   "metadata": {
    "papermill": {
     "duration": 1.647264,
     "end_time": "2021-05-25T08:37:12.350196",
     "exception": false,
     "start_time": "2021-05-25T08:37:10.702932",
     "status": "completed"
    },
    "tags": []
   },
   "source": [
    "# Sample Testing"
   ]
  },
  {
   "cell_type": "code",
   "execution_count": 15,
   "id": "colonial-naples",
   "metadata": {
    "execution": {
     "iopub.execute_input": "2021-05-25T08:37:15.627723Z",
     "iopub.status.busy": "2021-05-25T08:37:15.627095Z",
     "iopub.status.idle": "2021-05-25T08:37:17.675610Z",
     "shell.execute_reply": "2021-05-25T08:37:17.674916Z",
     "shell.execute_reply.started": "2021-05-25T08:16:42.904880Z"
    },
    "papermill": {
     "duration": 3.703908,
     "end_time": "2021-05-25T08:37:17.675760",
     "exception": false,
     "start_time": "2021-05-25T08:37:13.971852",
     "status": "completed"
    },
    "tags": []
   },
   "outputs": [],
   "source": [
    "predictions=model.predict(X_test)"
   ]
  },
  {
   "cell_type": "code",
   "execution_count": 16,
   "id": "liquid-bathroom",
   "metadata": {
    "execution": {
     "iopub.execute_input": "2021-05-25T08:37:20.901775Z",
     "iopub.status.busy": "2021-05-25T08:37:20.900828Z",
     "iopub.status.idle": "2021-05-25T08:37:21.532265Z",
     "shell.execute_reply": "2021-05-25T08:37:21.531774Z",
     "shell.execute_reply.started": "2021-05-25T08:25:36.920960Z"
    },
    "papermill": {
     "duration": 2.247533,
     "end_time": "2021-05-25T08:37:21.532402",
     "exception": false,
     "start_time": "2021-05-25T08:37:19.284869",
     "status": "completed"
    },
    "tags": []
   },
   "outputs": [
    {
     "data": {
      "image/png": "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\n",
      "text/plain": [
       "<Figure size 360x360 with 1 Axes>"
      ]
     },
     "metadata": {},
     "output_type": "display_data"
    },
    {
     "data": {
      "image/png": "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\n",
      "text/plain": [
       "<Figure size 360x360 with 1 Axes>"
      ]
     },
     "metadata": {},
     "output_type": "display_data"
    },
    {
     "data": {
      "image/png": "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\n",
      "text/plain": [
       "<Figure size 360x360 with 1 Axes>"
      ]
     },
     "metadata": {},
     "output_type": "display_data"
    },
    {
     "data": {
      "image/png": "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\n",
      "text/plain": [
       "<Figure size 360x360 with 1 Axes>"
      ]
     },
     "metadata": {},
     "output_type": "display_data"
    },
    {
     "data": {
      "image/png": "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\n",
      "text/plain": [
       "<Figure size 360x360 with 1 Axes>"
      ]
     },
     "metadata": {},
     "output_type": "display_data"
    },
    {
     "data": {
      "image/png": "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\n",
      "text/plain": [
       "<Figure size 360x360 with 1 Axes>"
      ]
     },
     "metadata": {},
     "output_type": "display_data"
    },
    {
     "data": {
      "image/png": "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\n",
      "text/plain": [
       "<Figure size 360x360 with 1 Axes>"
      ]
     },
     "metadata": {},
     "output_type": "display_data"
    },
    {
     "data": {
      "image/png": "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\n",
      "text/plain": [
       "<Figure size 360x360 with 1 Axes>"
      ]
     },
     "metadata": {},
     "output_type": "display_data"
    },
    {
     "data": {
      "image/png": "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\n",
      "text/plain": [
       "<Figure size 360x360 with 1 Axes>"
      ]
     },
     "metadata": {},
     "output_type": "display_data"
    },
    {
     "data": {
      "image/png": "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\n",
      "text/plain": [
       "<Figure size 360x360 with 1 Axes>"
      ]
     },
     "metadata": {},
     "output_type": "display_data"
    }
   ],
   "source": [
    "gen={0:'Male',1:'Female'}\n",
    "for i in range(10):\n",
    "    plt.figure(figsize=(5,5))\n",
    "    plt.xticks([])\n",
    "    plt.yticks([])\n",
    "    plt.grid(False)\n",
    "    plt.imshow(X_test[i].reshape(48,48))\n",
    "    if predictions[i].round(0)==0:\n",
    "        plt.xlabel(\"Actual: \"+str(gen[y_test.iloc[i]])+'\\n'+\"Prediction: Male\")\n",
    "    else:\n",
    "        plt.xlabel(\"Actual: \"+str(gen[y_test.iloc[i]])+'\\n'+\"Prediction: Female\")\n",
    "plt.show()"
   ]
  },
  {
   "cell_type": "markdown",
   "id": "isolated-tragedy",
   "metadata": {
    "papermill": {
     "duration": 1.627719,
     "end_time": "2021-05-25T08:37:24.849960",
     "exception": false,
     "start_time": "2021-05-25T08:37:23.222241",
     "status": "completed"
    },
    "tags": []
   },
   "source": [
    "# Result\n",
    " ### Training Accuracy: 91.8% \n",
    " ### Testing Accuracy: 89.4%"
   ]
  },
  {
   "cell_type": "markdown",
   "id": "velvet-experiment",
   "metadata": {
    "papermill": {
     "duration": 1.675365,
     "end_time": "2021-05-25T08:37:28.170457",
     "exception": false,
     "start_time": "2021-05-25T08:37:26.495092",
     "status": "completed"
    },
    "tags": []
   },
   "source": []
  }
 ],
 "metadata": {
  "kernelspec": {
   "display_name": "Python 3",
   "language": "python",
   "name": "python3"
  },
  "language_info": {
   "codemirror_mode": {
    "name": "ipython",
    "version": 3
   },
   "file_extension": ".py",
   "mimetype": "text/x-python",
   "name": "python",
   "nbconvert_exporter": "python",
   "pygments_lexer": "ipython3",
   "version": "3.7.10"
  },
  "papermill": {
   "default_parameters": {},
   "duration": 643.438169,
   "end_time": "2021-05-25T08:37:31.596149",
   "environment_variables": {},
   "exception": null,
   "input_path": "__notebook__.ipynb",
   "output_path": "__notebook__.ipynb",
   "parameters": {},
   "start_time": "2021-05-25T08:26:48.157980",
   "version": "2.3.3"
  }
 },
 "nbformat": 4,
 "nbformat_minor": 5
}
